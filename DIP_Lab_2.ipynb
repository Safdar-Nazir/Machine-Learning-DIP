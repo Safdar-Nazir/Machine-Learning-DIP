{
  "nbformat": 4,
  "nbformat_minor": 0,
  "metadata": {
    "colab": {
      "name": "DIP - Lab 2",
      "provenance": [],
      "authorship_tag": "ABX9TyOwuPNBt3PgaymX/R7QJaSW",
      "include_colab_link": true
    },
    "kernelspec": {
      "name": "python3",
      "display_name": "Python 3"
    }
  },
  "cells": [
    {
      "cell_type": "markdown",
      "metadata": {
        "id": "view-in-github",
        "colab_type": "text"
      },
      "source": [
        "<a href=\"https://colab.research.google.com/github/Safdar-Nazir/Machine-Learning-DIP/blob/main/DIP_Lab_2.ipynb\" target=\"_parent\"><img src=\"https://colab.research.google.com/assets/colab-badge.svg\" alt=\"Open In Colab\"/></a>"
      ]
    },
    {
      "cell_type": "code",
      "metadata": {
        "id": "b3NYyYziLOa9",
        "outputId": "0de80475-81b1-4fda-da77-33f2bdabf8db",
        "colab": {
          "base_uri": "https://localhost:8080/",
          "height": 35
        }
      },
      "source": [
        "import time\n",
        "print(time.ctime())\n"
      ],
      "execution_count": 1,
      "outputs": [
        {
          "output_type": "stream",
          "text": [
            "Wed Oct 14 08:17:02 2020\n"
          ],
          "name": "stdout"
        }
      ]
    }
  ]
}